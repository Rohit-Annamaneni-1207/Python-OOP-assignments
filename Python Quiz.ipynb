{
  "nbformat": 4,
  "nbformat_minor": 0,
  "metadata": {
    "colab": {
      "name": "Untitled0.ipynb",
      "provenance": [],
      "authorship_tag": "ABX9TyPlRKIcDc7Bk8ynmumoGgHC",
      "include_colab_link": true
    },
    "kernelspec": {
      "name": "python3",
      "display_name": "Python 3"
    },
    "language_info": {
      "name": "python"
    }
  },
  "cells": [
    {
      "cell_type": "markdown",
      "metadata": {
        "id": "view-in-github",
        "colab_type": "text"
      },
      "source": [
        "<a href=\"https://colab.research.google.com/github/Rohit-Annamaneni-1207/Python-OOP-assignments/blob/main/Python%20Quiz.ipynb\" target=\"_parent\"><img src=\"https://colab.research.google.com/assets/colab-badge.svg\" alt=\"Open In Colab\"/></a>"
      ]
    },
    {
      "cell_type": "markdown",
      "metadata": {
        "id": "_XExO3STr4fQ"
      },
      "source": [
        "**problem 1: Write a function that returns the maximum of two numbers.**"
      ]
    },
    {
      "cell_type": "code",
      "metadata": {
        "id": "pJXfuN-1qqm7"
      },
      "source": [
        "def maxNum(a, b):\n",
        "  if (a > b):\n",
        "    return a\n",
        "  return b"
      ],
      "execution_count": null,
      "outputs": []
    },
    {
      "cell_type": "markdown",
      "metadata": {
        "id": "yCN2ntXvsMSX"
      },
      "source": [
        "**problem 2: Write a function called numberGame that takes a number.\n",
        "If the number is divisible by 3, it should return “number”.\n",
        "If it is divisible by 5, it should return “Game”.\n",
        "If it is divisible by both 3 and 5, it should return “numberGame”.\n",
        "Otherwise, it should return the same number.**"
      ]
    },
    {
      "cell_type": "code",
      "metadata": {
        "id": "LPC2wJV2s7CQ"
      },
      "source": [
        "def numberGame(num):\n",
        "  if (num%3==0 and num%5==0):\n",
        "    return \"numberGame\"\n",
        "  elif (num%3==0):\n",
        "    return \"number\"\n",
        "  elif (num%5==0):\n",
        "    return \"Game\"\n",
        "  else:\n",
        "    return num\n"
      ],
      "execution_count": null,
      "outputs": []
    },
    {
      "cell_type": "markdown",
      "metadata": {
        "id": "v_aJ6q-dta-X"
      },
      "source": [
        "**Problem 3: Write a function for checking the speed of drivers. This function should have one parameter: speed. If speed is less than 70, it should print “Ok”.Otherwise, for every 5km above the speed limit (70), it should give the driver one demerit point and print the total number of demerit points. For example, if the speed is 80, it should print: “Points: 2”.If the driver gets more than 12 points, the function should print: “License suspended”"
      ]
    },
    {
      "cell_type": "code",
      "metadata": {
        "colab": {
          "base_uri": "https://localhost:8080/"
        },
        "id": "Dka0ZO2xuqOr",
        "outputId": "b0b22d2a-0d11-4c3d-8def-0adf165728e6"
      },
      "source": [
        "def speedCheck(speed):\n",
        "  if (speed < 70):\n",
        "    print(\"OK\")\n",
        "  else:\n",
        "    points = speed - 70\n",
        "    points = points//5\n",
        "    if (points > 12):\n",
        "      print(\"License suspended\")\n",
        "    else:\n",
        "      print(f\"Points: {points}\")\n",
        "\n",
        "speedCheck(80)\n",
        "speedCheck(90)"
      ],
      "execution_count": 2,
      "outputs": [
        {
          "output_type": "stream",
          "text": [
            "Points: 2\n",
            "Points: 4\n"
          ],
          "name": "stdout"
        }
      ]
    },
    {
      "cell_type": "markdown",
      "metadata": {
        "id": "81eXr8M1xBfQ"
      },
      "source": [
        "**Problem 4: Write a function called showNumbers that takes a parameter called limit. It should print all the numbers between 0 and limit with a label to identify the even and odd numbers. For example, if the limit is 3, it should print:\n",
        "0 EVEN\n",
        "1 ODD\n",
        "2 EVEN\n",
        "3 ODD\n",
        "**\n"
      ]
    },
    {
      "cell_type": "code",
      "metadata": {
        "colab": {
          "base_uri": "https://localhost:8080/"
        },
        "id": "GDswWDJ-wD84",
        "outputId": "ef25f043-c3f5-4ba4-f372-55a3a0c29ee2"
      },
      "source": [
        "def showNumbers(limit):\n",
        "  for i in range(0,limit+1):\n",
        "    if (i%2==0):\n",
        "      print(f\"{i} EVEN\")\n",
        "    else:\n",
        "      print(f\"{i} ODD\")\n",
        "\n",
        "showNumbers(5)"
      ],
      "execution_count": 3,
      "outputs": [
        {
          "output_type": "stream",
          "text": [
            "0 EVEN\n",
            "1 ODD\n",
            "2 EVEN\n",
            "3 ODD\n",
            "4 EVEN\n",
            "5 ODD\n"
          ],
          "name": "stdout"
        }
      ]
    },
    {
      "cell_type": "markdown",
      "metadata": {
        "id": "s7BLmJX3y5vT"
      },
      "source": [
        "**Problem 5: Write a function called showSigns(rows). If rows is 5, it should print the following:\n",
        "&\n",
        "&&\n",
        "&&&\n",
        "&&&&\n",
        "&&&&&\n",
        "**"
      ]
    },
    {
      "cell_type": "code",
      "metadata": {
        "colab": {
          "base_uri": "https://localhost:8080/"
        },
        "id": "jtS95qU2y2c5",
        "outputId": "d0396566-226b-41f8-b5b2-ce11ef474cee"
      },
      "source": [
        "def showSigns(rows):\n",
        "  for i in range(1, rows+1):\n",
        "    for j in range(i):\n",
        "      print(\"&\", end=\"\")\n",
        "    print(\"\\n\")\n",
        "\n",
        "showSigns(10)"
      ],
      "execution_count": 8,
      "outputs": [
        {
          "output_type": "stream",
          "text": [
            "&\n",
            "\n",
            "&&\n",
            "\n",
            "&&&\n",
            "\n",
            "&&&&\n",
            "\n",
            "&&&&&\n",
            "\n",
            "&&&&&&\n",
            "\n",
            "&&&&&&&\n",
            "\n",
            "&&&&&&&&\n",
            "\n",
            "&&&&&&&&&\n",
            "\n",
            "&&&&&&&&&&\n",
            "\n"
          ],
          "name": "stdout"
        }
      ]
    },
    {
      "cell_type": "markdown",
      "metadata": {
        "id": "0Ogk6Porz0Dq"
      },
      "source": [
        "**Problem 6: Write a function that prints all the prime numbers between 0 and max where max is a parameter.**"
      ]
    },
    {
      "cell_type": "code",
      "metadata": {
        "colab": {
          "base_uri": "https://localhost:8080/"
        },
        "id": "fsmHEN6Kzpt5",
        "outputId": "deb07740-3b3c-4942-c2ff-7a213c057ece"
      },
      "source": [
        "def primeList(max):\n",
        "  for i in range(2, max+1):\n",
        "    check = True\n",
        "    for j in range(2,i):\n",
        "      if (i%j==0):\n",
        "        check = False\n",
        "        break\n",
        "    if check:\n",
        "      print(i)\n",
        "\n",
        "primeList(10)"
      ],
      "execution_count": 9,
      "outputs": [
        {
          "output_type": "stream",
          "text": [
            "2\n",
            "3\n",
            "5\n",
            "7\n"
          ],
          "name": "stdout"
        }
      ]
    }
  ]
}