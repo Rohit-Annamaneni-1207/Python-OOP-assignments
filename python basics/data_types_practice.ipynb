{
  "nbformat": 4,
  "nbformat_minor": 0,
  "metadata": {
    "colab": {
      "name": "data_types_practice_one.ipynb",
      "provenance": []
    },
    "kernelspec": {
      "name": "python3",
      "display_name": "Python 3"
    },
    "language_info": {
      "name": "python"
    }
  },
  "cells": [
    {
      "cell_type": "code",
      "metadata": {
        "colab": {
          "base_uri": "https://localhost:8080/"
        },
        "id": "CaHBO5dCjTLW",
        "outputId": "9b7aeb6d-474b-4dc7-bb50-41a00a85ce3e"
      },
      "source": [
        "a=100  \n",
        "Str1 =\"We are learning Python\"  \n",
        "c = 20.5  \n",
        "print(type(a))  \n",
        "print(type(Str1))  \n",
        "print(type(c))"
      ],
      "execution_count": 1,
      "outputs": [
        {
          "output_type": "stream",
          "text": [
            "<class 'int'>\n",
            "<class 'str'>\n",
            "<class 'float'>\n"
          ],
          "name": "stdout"
        }
      ]
    },
    {
      "cell_type": "code",
      "metadata": {
        "colab": {
          "base_uri": "https://localhost:8080/"
        },
        "id": "-aBmG6tHjfw8",
        "outputId": "5cfa0d15-3fe9-487d-9ab2-08218238e852"
      },
      "source": [
        "a = 5  \n",
        "print(\"The type of a\", type(a))  \n",
        "  \n",
        "b = 50.5  \n",
        "print(\"The type of b\", type(b))  \n",
        "  \n",
        "c = 1+3j  \n",
        "print(\"The type of c\", type(c))  \n",
        "print(\" c is a complex number\", isinstance(1+3j,complex))"
      ],
      "execution_count": 2,
      "outputs": [
        {
          "output_type": "stream",
          "text": [
            "The type of a <class 'int'>\n",
            "The type of b <class 'float'>\n",
            "The type of c <class 'complex'>\n",
            " c is a complex number True\n"
          ],
          "name": "stdout"
        }
      ]
    },
    {
      "cell_type": "markdown",
      "metadata": {
        "id": "l4ZTIsTHjv_U"
      },
      "source": [
        "Lists"
      ]
    },
    {
      "cell_type": "code",
      "metadata": {
        "colab": {
          "base_uri": "https://localhost:8080/"
        },
        "id": "0jRd4Zo3jm8A",
        "outputId": "5501a260-b7d3-4d2a-d848-b5ef829b08cd"
      },
      "source": [
        "list1  = [1, \"hi\", \"Python\", 2]    \n",
        "#Checking type of given list  \n",
        "print(type(list1))  \n",
        "  \n",
        "#Printing the list1  \n",
        "print (list1)  \n",
        "  \n",
        "# List slicing  for last two element\n",
        "print (list1[2:])  \n",
        "  \n",
        "# List slicing  for first three elements\n",
        "print (list1[0:3])   \n",
        "  \n",
        "# List Concatenation\n",
        "print (list1 + list1)  \n",
        "  \n",
        "# List repetation using * operator  \n",
        "print (list1 * 3)"
      ],
      "execution_count": 3,
      "outputs": [
        {
          "output_type": "stream",
          "text": [
            "<class 'list'>\n",
            "[1, 'hi', 'Python', 2]\n",
            "['Python', 2]\n",
            "[1, 'hi', 'Python']\n",
            "[1, 'hi', 'Python', 2, 1, 'hi', 'Python', 2]\n",
            "[1, 'hi', 'Python', 2, 1, 'hi', 'Python', 2, 1, 'hi', 'Python', 2]\n"
          ],
          "name": "stdout"
        }
      ]
    },
    {
      "cell_type": "markdown",
      "metadata": {
        "id": "W_8rc3RxkOWU"
      },
      "source": [
        "**Tuple**"
      ]
    },
    {
      "cell_type": "code",
      "metadata": {
        "colab": {
          "base_uri": "https://localhost:8080/",
          "height": 279
        },
        "id": "D65c_ly9kIHQ",
        "outputId": "a61869ab-d7eb-4525-cc11-3c8054e1c8a9"
      },
      "source": [
        "tup = (1, 2)\n",
        "print(type(tup))\n",
        "print(tup)\n",
        "\n",
        "print(tup[1:])\n",
        "\n",
        "print(tup + tup)\n",
        "print(tup*3)\n",
        "\n",
        "tup[1] = 6 #throws an error as reassignment of tuple elements is not allowed"
      ],
      "execution_count": 1,
      "outputs": [
        {
          "output_type": "stream",
          "text": [
            "<class 'tuple'>\n",
            "(1, 2)\n",
            "(2,)\n",
            "(1, 2, 1, 2)\n",
            "(1, 2, 1, 2, 1, 2)\n"
          ],
          "name": "stdout"
        },
        {
          "output_type": "error",
          "ename": "TypeError",
          "evalue": "ignored",
          "traceback": [
            "\u001b[0;31m---------------------------------------------------------------------------\u001b[0m",
            "\u001b[0;31mTypeError\u001b[0m                                 Traceback (most recent call last)",
            "\u001b[0;32m<ipython-input-1-6a9519629e79>\u001b[0m in \u001b[0;36m<module>\u001b[0;34m()\u001b[0m\n\u001b[1;32m      8\u001b[0m \u001b[0mprint\u001b[0m\u001b[0;34m(\u001b[0m\u001b[0mtup\u001b[0m\u001b[0;34m*\u001b[0m\u001b[0;36m3\u001b[0m\u001b[0;34m)\u001b[0m\u001b[0;34m\u001b[0m\u001b[0;34m\u001b[0m\u001b[0m\n\u001b[1;32m      9\u001b[0m \u001b[0;34m\u001b[0m\u001b[0m\n\u001b[0;32m---> 10\u001b[0;31m \u001b[0mtup\u001b[0m\u001b[0;34m[\u001b[0m\u001b[0;36m1\u001b[0m\u001b[0;34m]\u001b[0m \u001b[0;34m=\u001b[0m \u001b[0;36m6\u001b[0m \u001b[0;31m#throws an error as reassignment of tuple elements is not allowed\u001b[0m\u001b[0;34m\u001b[0m\u001b[0;34m\u001b[0m\u001b[0m\n\u001b[0m",
            "\u001b[0;31mTypeError\u001b[0m: 'tuple' object does not support item assignment"
          ]
        }
      ]
    },
    {
      "cell_type": "markdown",
      "metadata": {
        "id": "ixy_fX8ApP5d"
      },
      "source": [
        "**Dictionary**"
      ]
    },
    {
      "cell_type": "code",
      "metadata": {
        "colab": {
          "base_uri": "https://localhost:8080/"
        },
        "id": "F8Q75_OUo63K",
        "outputId": "b669fd9f-002b-46a9-f8b4-4446bce01305"
      },
      "source": [
        "dict = {\"dog\":4, \"cat\":4, \"human\":2, \"bird\": 2, \"fish\": 0}\n",
        "print(dict.keys())\n",
        "print(dict.values())\n",
        "for key in dict.keys():\n",
        "  print(f\"{key} has {dict[key]} legs\")"
      ],
      "execution_count": 2,
      "outputs": [
        {
          "output_type": "stream",
          "text": [
            "dict_keys(['dog', 'cat', 'human', 'bird', 'fish'])\n",
            "dict_values([4, 4, 2, 2, 0])\n",
            "dog has 4 legs\n",
            "cat has 4 legs\n",
            "human has 2 legs\n",
            "bird has 2 legs\n",
            "fish has 0 legs\n"
          ],
          "name": "stdout"
        }
      ]
    },
    {
      "cell_type": "markdown",
      "metadata": {
        "id": "H2ahAEnBp4YD"
      },
      "source": [
        "**Boolean**"
      ]
    },
    {
      "cell_type": "code",
      "metadata": {
        "colab": {
          "base_uri": "https://localhost:8080/"
        },
        "id": "l_eC8ra1pzeQ",
        "outputId": "875e88cd-b142-4181-cc8f-7c5165fa3ac0"
      },
      "source": [
        "print(type(True))  \n",
        "print(type(False))  \n",
        "print(True)"
      ],
      "execution_count": 3,
      "outputs": [
        {
          "output_type": "stream",
          "text": [
            "<class 'bool'>\n",
            "<class 'bool'>\n",
            "True\n"
          ],
          "name": "stdout"
        }
      ]
    },
    {
      "cell_type": "markdown",
      "metadata": {
        "id": "ykU9FVgbqBaU"
      },
      "source": [
        "**Sets**"
      ]
    },
    {
      "cell_type": "code",
      "metadata": {
        "colab": {
          "base_uri": "https://localhost:8080/"
        },
        "id": "h5JK578np_pc",
        "outputId": "1ddaf45a-ed8f-4120-e05b-d13a9954aa7d"
      },
      "source": [
        "#Sets are unordered and cannot have duplicate elements\n",
        "\n",
        "set_1 = {\"String\", 36.6, 2, True}\n",
        "print(type(set))\n",
        "print(set_1)\n",
        "set_2 = set()\n",
        "\n",
        "set_2.add(10)\n",
        "set_2.add(True)\n",
        "set_2.add(10)\n",
        "print(set_2)"
      ],
      "execution_count": 4,
      "outputs": [
        {
          "output_type": "stream",
          "text": [
            "<class 'type'>\n",
            "{True, 'String', 2, 36.6}\n",
            "{True, 10}\n"
          ],
          "name": "stdout"
        }
      ]
    },
    {
      "cell_type": "code",
      "metadata": {
        "id": "6dCoWJ_EqjIy"
      },
      "source": [
        ""
      ],
      "execution_count": null,
      "outputs": []
    }
  ]
}