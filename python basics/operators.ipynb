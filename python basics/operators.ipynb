{
  "nbformat": 4,
  "nbformat_minor": 0,
  "metadata": {
    "colab": {
      "name": "operators.ipynb",
      "provenance": []
    },
    "kernelspec": {
      "name": "python3",
      "display_name": "Python 3"
    },
    "language_info": {
      "name": "python"
    }
  },
  "cells": [
    {
      "cell_type": "markdown",
      "metadata": {
        "id": "6QsxRTctrB1g"
      },
      "source": [
        "**Arithmetic operators**"
      ]
    },
    {
      "cell_type": "code",
      "metadata": {
        "colab": {
          "base_uri": "https://localhost:8080/"
        },
        "id": "LXhIQAE1qsnK",
        "outputId": "b44c606e-687a-4a25-aa73-720e5539ec79"
      },
      "source": [
        "m = 5\n",
        "n = 3\n",
        "print(m+n, m-n, m*n, m/n, m//n, m%n)"
      ],
      "execution_count": 1,
      "outputs": [
        {
          "output_type": "stream",
          "text": [
            "8 2 15 1.6666666666666667 1 2\n"
          ],
          "name": "stdout"
        }
      ]
    },
    {
      "cell_type": "markdown",
      "metadata": {
        "id": "uU-i7ilyrUxK"
      },
      "source": [
        "**Comparision operator**"
      ]
    },
    {
      "cell_type": "code",
      "metadata": {
        "colab": {
          "base_uri": "https://localhost:8080/"
        },
        "id": "Nj_BtazgrNbo",
        "outputId": "22db75ca-da89-461a-835c-3ff8f70e2fe4"
      },
      "source": [
        "a = 10\n",
        "b = 12\n",
        "print(a > b)\n",
        "print(a == b)\n",
        "print(a < b)\n",
        "print(a <= b)"
      ],
      "execution_count": 2,
      "outputs": [
        {
          "output_type": "stream",
          "text": [
            "False\n",
            "False\n",
            "True\n",
            "True\n"
          ],
          "name": "stdout"
        }
      ]
    },
    {
      "cell_type": "markdown",
      "metadata": {
        "id": "PLfcBcharlRT"
      },
      "source": [
        "**Bitwise Operators**"
      ]
    },
    {
      "cell_type": "code",
      "metadata": {
        "colab": {
          "base_uri": "https://localhost:8080/"
        },
        "id": "Bdg5lXJMrh1d",
        "outputId": "78b35362-e4ba-4dc3-f5fa-25cc5c3f3f3a"
      },
      "source": [
        "x = 10 #(0000 1010)\n",
        "y = 4 #(0000 0100)\n",
        "\n",
        "print(x & y) #(0000 0000) AND ----> 0\n",
        "print(x ^ y)  #(0000 1110) XOR ----> 14\n",
        "print(x << 2) #(0010 1000) LEFT SHIFT ----> 40\n",
        "print(x >> 2) #(0000 0010) RIGHT SHIFT ----> 2"
      ],
      "execution_count": 4,
      "outputs": [
        {
          "output_type": "stream",
          "text": [
            "0\n",
            "14\n",
            "40\n",
            "2\n"
          ],
          "name": "stdout"
        }
      ]
    },
    {
      "cell_type": "markdown",
      "metadata": {
        "id": "eQKuoVCCshvu"
      },
      "source": [
        "**Assignment operator**"
      ]
    },
    {
      "cell_type": "code",
      "metadata": {
        "colab": {
          "base_uri": "https://localhost:8080/"
        },
        "id": "zHoH7gJmsG_M",
        "outputId": "478de4ef-77dd-4f88-94cd-c47d2dc17858"
      },
      "source": [
        "a = 2\n",
        "a += 6\n",
        "a %= 3\n",
        "a **= 4\n",
        "a //= 5\n",
        "print(a)"
      ],
      "execution_count": 10,
      "outputs": [
        {
          "output_type": "stream",
          "text": [
            "3\n"
          ],
          "name": "stdout"
        }
      ]
    },
    {
      "cell_type": "markdown",
      "metadata": {
        "id": "mmN_KkEUtAt9"
      },
      "source": [
        "**Identity operators**"
      ]
    },
    {
      "cell_type": "code",
      "metadata": {
        "colab": {
          "base_uri": "https://localhost:8080/"
        },
        "id": "3vKbmzJNsvmu",
        "outputId": "c7278ce8-f5a8-4cd4-c912-3ebcdfe4ad9e"
      },
      "source": [
        "x1 = {3, 5, 11}\n",
        "x2 = {11, 3, 5}\n",
        "x3 = {1, 6, 4}\n",
        "x4 = [1, 2, 3, 4]\n",
        "x5 = [1,2,3,4]\n",
        "x6 = 10\n",
        "x7 = 10\n",
        "print(x1 is not x2)\n",
        "print(x1 is x3)\n",
        "print(x4 is x5)\n",
        "print(x6 is x7)"
      ],
      "execution_count": 13,
      "outputs": [
        {
          "output_type": "stream",
          "text": [
            "True\n",
            "False\n",
            "False\n",
            "True\n"
          ],
          "name": "stdout"
        }
      ]
    },
    {
      "cell_type": "markdown",
      "metadata": {
        "id": "414r932htquF"
      },
      "source": [
        "**Membership operators**"
      ]
    },
    {
      "cell_type": "code",
      "metadata": {
        "colab": {
          "base_uri": "https://localhost:8080/"
        },
        "id": "psY6UQgTtRtZ",
        "outputId": "e0f44321-ce29-4571-848e-0fa03ee9fbe4"
      },
      "source": [
        "x = {1, 5, 7, 9}\n",
        "print(8 in x)\n",
        "print(8 not in x)\n",
        "print(7 in x)"
      ],
      "execution_count": 14,
      "outputs": [
        {
          "output_type": "stream",
          "text": [
            "False\n",
            "True\n",
            "True\n"
          ],
          "name": "stdout"
        }
      ]
    },
    {
      "cell_type": "code",
      "metadata": {
        "id": "c-4aqAOyt3C7"
      },
      "source": [
        ""
      ],
      "execution_count": null,
      "outputs": []
    }
  ]
}