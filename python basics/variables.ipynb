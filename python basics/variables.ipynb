{
  "nbformat": 4,
  "nbformat_minor": 0,
  "metadata": {
    "colab": {
      "name": "variables.ipynb",
      "provenance": []
    },
    "kernelspec": {
      "name": "python3",
      "display_name": "Python 3"
    },
    "language_info": {
      "name": "python"
    }
  },
  "cells": [
    {
      "cell_type": "code",
      "metadata": {
        "colab": {
          "base_uri": "https://localhost:8080/"
        },
        "id": "0sDv-wGHQfoT",
        "outputId": "01117490-4d7e-4faf-860a-fb6c4cd65b11"
      },
      "source": [
        "print(\"India\")\n",
        "print(type(\"India\"))"
      ],
      "execution_count": 1,
      "outputs": [
        {
          "output_type": "stream",
          "text": [
            "India\n",
            "<class 'str'>\n"
          ],
          "name": "stdout"
        }
      ]
    },
    {
      "cell_type": "code",
      "metadata": {
        "colab": {
          "base_uri": "https://localhost:8080/"
        },
        "id": "t4Y0CsoKRrj9",
        "outputId": "55b30446-cafa-4358-805a-23654099e458"
      },
      "source": [
        "a = 100\n",
        "b = a = 50\n",
        "print(a)\n",
        "print(b)"
      ],
      "execution_count": 3,
      "outputs": [
        {
          "output_type": "stream",
          "text": [
            "50\n",
            "50\n"
          ],
          "name": "stdout"
        }
      ]
    },
    {
      "cell_type": "markdown",
      "metadata": {
        "id": "fItH7pL1SZU_"
      },
      "source": [
        "Once objects like lists, dicts are created within a variable, more variables cannot generate the same object when the former variable is assigned to them. Instead, they act as pointers and any changes in the new variable is reflected in the original list"
      ]
    },
    {
      "cell_type": "code",
      "metadata": {
        "colab": {
          "base_uri": "https://localhost:8080/"
        },
        "id": "-adjQRhBSXMb",
        "outputId": "acc06414-705e-49f5-a865-c42ce02ed5a4"
      },
      "source": [
        "list_one = [1,2,3]\n",
        "list_two = list_one\n",
        "print(list_one) #1, 2, 3\n",
        "print(list_two) #1, 2, 3\n",
        "list_two.append(4)\n",
        "print(list_one) #1, 2, 3, 4\n",
        "print(list_two) #1, 2, 3, 4"
      ],
      "execution_count": 4,
      "outputs": [
        {
          "output_type": "stream",
          "text": [
            "[1, 2, 3]\n",
            "[1, 2, 3]\n",
            "[1, 2, 3, 4]\n",
            "[1, 2, 3, 4]\n"
          ],
          "name": "stdout"
        }
      ]
    },
    {
      "cell_type": "markdown",
      "metadata": {
        "id": "VaerXaLiTF5g"
      },
      "source": [
        "**Object identifiers**"
      ]
    },
    {
      "cell_type": "code",
      "metadata": {
        "colab": {
          "base_uri": "https://localhost:8080/"
        },
        "id": "GQI1IbDsS_eO",
        "outputId": "3196291e-a5d0-433d-fd64-69458c2a8824"
      },
      "source": [
        "a = 100\n",
        "b = a\n",
        "print(id(a))\n",
        "print(id(b))\n",
        "\n",
        "b = b + 20 #changing b\n",
        "\n",
        "print(id(a))\n",
        "print(id(b)) #id of b changed\n",
        "\n",
        "print(a)\n",
        "print(b)\n",
        "\n",
        "a = 200 #Reassigning a\n",
        "\n",
        "print(id(a)) #id of a changed\n",
        "print(a)"
      ],
      "execution_count": 7,
      "outputs": [
        {
          "output_type": "stream",
          "text": [
            "93918690129504\n",
            "93918690129504\n",
            "93918690129504\n",
            "93918690130144\n",
            "100\n",
            "120\n",
            "93918690132704\n",
            "200\n"
          ],
          "name": "stdout"
        }
      ]
    },
    {
      "cell_type": "code",
      "metadata": {
        "colab": {
          "base_uri": "https://localhost:8080/"
        },
        "id": "4ucsSwPGTVwM",
        "outputId": "dc4ce463-a490-4d31-9ccc-9860e0cc2f8f"
      },
      "source": [
        "name = \"OOPCourse\"  \n",
        "Myage=Herage= 45  \n",
        "a=b=c=90  \n",
        "a=b=c=4,5,6               \n",
        "a,b,c=4,5,6         \n",
        "\n",
        "print(name)  \n",
        "print(Myage,Herage)  \n",
        "print(a,b,c) \n",
        "\n",
        "name = \"Test1\"  \n",
        "Name = \"Test2\"  \n",
        "naMe = \"Test3\"  \n",
        "NAME = \"Test4\"  \n",
        "n_a_m_e = \"Test5\"  \n",
        "_name = \"Test6\"  \n",
        "name_ = \"Test7\"  \n",
        "_name_ = \"Test8\"  \n",
        "na80me = \"Test9\"  \n",
        "print(name,Name,naMe,NAME) "
      ],
      "execution_count": 8,
      "outputs": [
        {
          "output_type": "stream",
          "text": [
            "OOPCourse\n",
            "45 45\n",
            "4 5 6\n",
            "Test1 Test2 Test3 Test4\n"
          ],
          "name": "stdout"
        }
      ]
    },
    {
      "cell_type": "markdown",
      "metadata": {
        "id": "-W6zTQv1cGbe"
      },
      "source": [
        "**Local and Global variables**"
      ]
    },
    {
      "cell_type": "code",
      "metadata": {
        "colab": {
          "base_uri": "https://localhost:8080/",
          "height": 246
        },
        "id": "O7Pr_RJRbk8J",
        "outputId": "1f109129-9f8b-4072-eb1d-b42028f424f5"
      },
      "source": [
        "a = 100 #global variable\n",
        "\n",
        "def func():\n",
        "  m = 1\n",
        "  print(a)\n",
        "  print(m)\n",
        "\n",
        "func()\n",
        "print(a)\n",
        "print(m) #printing local variable here gives an error"
      ],
      "execution_count": 13,
      "outputs": [
        {
          "output_type": "stream",
          "text": [
            "100\n",
            "1\n",
            "100\n"
          ],
          "name": "stdout"
        },
        {
          "output_type": "error",
          "ename": "NameError",
          "evalue": "ignored",
          "traceback": [
            "\u001b[0;31m---------------------------------------------------------------------------\u001b[0m",
            "\u001b[0;31mNameError\u001b[0m                                 Traceback (most recent call last)",
            "\u001b[0;32m<ipython-input-13-79a936a11cec>\u001b[0m in \u001b[0;36m<module>\u001b[0;34m()\u001b[0m\n\u001b[1;32m      8\u001b[0m \u001b[0mfunc\u001b[0m\u001b[0;34m(\u001b[0m\u001b[0;34m)\u001b[0m\u001b[0;34m\u001b[0m\u001b[0;34m\u001b[0m\u001b[0m\n\u001b[1;32m      9\u001b[0m \u001b[0mprint\u001b[0m\u001b[0;34m(\u001b[0m\u001b[0ma\u001b[0m\u001b[0;34m)\u001b[0m\u001b[0;34m\u001b[0m\u001b[0;34m\u001b[0m\u001b[0m\n\u001b[0;32m---> 10\u001b[0;31m \u001b[0mprint\u001b[0m\u001b[0;34m(\u001b[0m\u001b[0mm\u001b[0m\u001b[0;34m)\u001b[0m\u001b[0;34m\u001b[0m\u001b[0;34m\u001b[0m\u001b[0m\n\u001b[0m",
            "\u001b[0;31mNameError\u001b[0m: name 'm' is not defined"
          ]
        }
      ]
    },
    {
      "cell_type": "code",
      "metadata": {
        "colab": {
          "base_uri": "https://localhost:8080/",
          "height": 246
        },
        "id": "ZvQqG4c7cW1I",
        "outputId": "7625e49c-ddec-4d1c-c921-3640a5cede09"
      },
      "source": [
        "a = 100\n",
        "\n",
        "def func():\n",
        "  global a\n",
        "  print(a)\n",
        "  a = \"Some string\" #modifying global variable\n",
        "  print(a)\n",
        "\n",
        "func()\n",
        "print(a)\n",
        "\n",
        "del a\n",
        "print(a) #Throws an error\n"
      ],
      "execution_count": 15,
      "outputs": [
        {
          "output_type": "stream",
          "text": [
            "100\n",
            "Some string\n",
            "Some string\n"
          ],
          "name": "stdout"
        },
        {
          "output_type": "error",
          "ename": "NameError",
          "evalue": "ignored",
          "traceback": [
            "\u001b[0;31m---------------------------------------------------------------------------\u001b[0m",
            "\u001b[0;31mNameError\u001b[0m                                 Traceback (most recent call last)",
            "\u001b[0;32m<ipython-input-15-12a316648c42>\u001b[0m in \u001b[0;36m<module>\u001b[0;34m()\u001b[0m\n\u001b[1;32m     11\u001b[0m \u001b[0;34m\u001b[0m\u001b[0m\n\u001b[1;32m     12\u001b[0m \u001b[0;32mdel\u001b[0m \u001b[0ma\u001b[0m\u001b[0;34m\u001b[0m\u001b[0;34m\u001b[0m\u001b[0m\n\u001b[0;32m---> 13\u001b[0;31m \u001b[0mprint\u001b[0m\u001b[0;34m(\u001b[0m\u001b[0ma\u001b[0m\u001b[0;34m)\u001b[0m \u001b[0;31m#Throws an error\u001b[0m\u001b[0;34m\u001b[0m\u001b[0;34m\u001b[0m\u001b[0m\n\u001b[0m",
            "\u001b[0;31mNameError\u001b[0m: name 'a' is not defined"
          ]
        }
      ]
    },
    {
      "cell_type": "markdown",
      "metadata": {
        "id": "XzWZO3jFdjgf"
      },
      "source": [
        "Python has no declaration for long ints, long long ints, etc. It treats all integers as an int data **type**"
      ]
    },
    {
      "cell_type": "code",
      "metadata": {
        "colab": {
          "base_uri": "https://localhost:8080/"
        },
        "id": "Ab_QNl6fdYfR",
        "outputId": "e3db460f-f59a-4da0-9b07-eb419734f905"
      },
      "source": [
        "c = 50000000000000000000000000000000000000000000  \n",
        "c = c + 1  \n",
        "print(type(c))  \n",
        "print (c)"
      ],
      "execution_count": 16,
      "outputs": [
        {
          "output_type": "stream",
          "text": [
            "<class 'int'>\n",
            "50000000000000000000000000000000000000000001\n"
          ],
          "name": "stdout"
        }
      ]
    },
    {
      "cell_type": "code",
      "metadata": {
        "id": "GLHGc8AOd05D"
      },
      "source": [
        ""
      ],
      "execution_count": null,
      "outputs": []
    }
  ]
}