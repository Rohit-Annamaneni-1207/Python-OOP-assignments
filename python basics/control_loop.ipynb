{
  "nbformat": 4,
  "nbformat_minor": 0,
  "metadata": {
    "colab": {
      "name": "control-loop.ipynb",
      "provenance": []
    },
    "kernelspec": {
      "name": "python3",
      "display_name": "Python 3"
    },
    "language_info": {
      "name": "python"
    }
  },
  "cells": [
    {
      "cell_type": "markdown",
      "metadata": {
        "id": "8LcZZ_z4uhz3"
      },
      "source": [
        "**If statements**"
      ]
    },
    {
      "cell_type": "code",
      "metadata": {
        "colab": {
          "base_uri": "https://localhost:8080/"
        },
        "id": "dXF7C80yuFtX",
        "outputId": "0dd86508-bb8e-4700-a775-d8b86d574a70"
      },
      "source": [
        "num = 50\n",
        "if num > 20:\n",
        "  print(\"A\")\n",
        "elif num > 10:\n",
        "  print(\"B\")\n",
        "else:\n",
        "  print(\"C\")"
      ],
      "execution_count": 1,
      "outputs": [
        {
          "output_type": "stream",
          "text": [
            "A\n"
          ],
          "name": "stdout"
        }
      ]
    },
    {
      "cell_type": "markdown",
      "metadata": {
        "id": "hteBpge5uzC7"
      },
      "source": [
        "**Nested if stemenets**"
      ]
    },
    {
      "cell_type": "code",
      "metadata": {
        "colab": {
          "base_uri": "https://localhost:8080/"
        },
        "id": "P3WSwN9Tuvac",
        "outputId": "b9347d83-9589-4710-9cb2-efab6a6ea5ea"
      },
      "source": [
        "num = 50\n",
        "\n",
        "if num > 20:\n",
        "  if num%2 ==0:\n",
        "    print(\"Greater than 20, even\")\n",
        "  else:\n",
        "    print(\"Greater than 20, odd\")\n",
        "else:\n",
        "  print(\"less than 20\")"
      ],
      "execution_count": 2,
      "outputs": [
        {
          "output_type": "stream",
          "text": [
            "Greater than 20, even\n"
          ],
          "name": "stdout"
        }
      ]
    },
    {
      "cell_type": "markdown",
      "metadata": {
        "id": "sqTphl34vLTa"
      },
      "source": [
        "**Loops**"
      ]
    },
    {
      "cell_type": "code",
      "metadata": {
        "colab": {
          "base_uri": "https://localhost:8080/"
        },
        "id": "GlEM2GNtvJrx",
        "outputId": "49e76caf-cebb-43ec-9eb1-2707cce6eaac"
      },
      "source": [
        "nums = [1, 2, 3, 4, 5, 6]\n",
        "sum = 0\n",
        "expected_sum = 6*7/2\n",
        "\n",
        "for val in nums:\n",
        "  sum += val\n",
        "\n",
        "print(sum, expected_sum)"
      ],
      "execution_count": 3,
      "outputs": [
        {
          "output_type": "stream",
          "text": [
            "21 21.0\n"
          ],
          "name": "stdout"
        }
      ]
    },
    {
      "cell_type": "markdown",
      "metadata": {
        "id": "fbw7iIcwvkC6"
      },
      "source": [
        "**range function**"
      ]
    },
    {
      "cell_type": "code",
      "metadata": {
        "colab": {
          "base_uri": "https://localhost:8080/"
        },
        "id": "CNoRQcQgviHe",
        "outputId": "35d8d6e0-0dcc-4dd6-cf22-af9b7ddf69c8"
      },
      "source": [
        "print(range(1,10))\n",
        "print(list(range(1, 10)))\n",
        "print(list(range(1,10, 2)))"
      ],
      "execution_count": 6,
      "outputs": [
        {
          "output_type": "stream",
          "text": [
            "range(1, 10)\n",
            "[1, 2, 3, 4, 5, 6, 7, 8, 9]\n",
            "[1, 3, 5, 7, 9]\n"
          ],
          "name": "stdout"
        }
      ]
    },
    {
      "cell_type": "code",
      "metadata": {
        "colab": {
          "base_uri": "https://localhost:8080/"
        },
        "id": "OxB7jo1GvqS1",
        "outputId": "4998eea5-9bb4-4ff1-f807-732df34a5330"
      },
      "source": [
        "music = ['pop', 'rock', 'jazz','classic']\n",
        "\n",
        "for genre in music:\n",
        "  print(genre)"
      ],
      "execution_count": 7,
      "outputs": [
        {
          "output_type": "stream",
          "text": [
            "pop\n",
            "rock\n",
            "jazz\n",
            "classic\n"
          ],
          "name": "stdout"
        }
      ]
    },
    {
      "cell_type": "markdown",
      "metadata": {
        "id": "bJgda6Fbv_9b"
      },
      "source": [
        "**for loop with else**"
      ]
    },
    {
      "cell_type": "code",
      "metadata": {
        "colab": {
          "base_uri": "https://localhost:8080/"
        },
        "id": "u4nIUTXtv9pO",
        "outputId": "d26e48b1-7a19-4cc1-e64d-81eafd10cc60"
      },
      "source": [
        "student_name = 'Soyuj'\n",
        "\n",
        "marks = {'James': 90, 'Jules': 55, 'Arthur': 77}\n",
        "\n",
        "for student in marks:\n",
        "    if student == student_name:\n",
        "        print(marks[student])\n",
        "        break\n",
        "    else:\n",
        "      continue\n",
        "else:\n",
        "    print('No entry with that name found.') #This else statement is triggered if the for loop end without a break statement triggering the termination"
      ],
      "execution_count": 11,
      "outputs": [
        {
          "output_type": "stream",
          "text": [
            "No entry with that name found.\n"
          ],
          "name": "stdout"
        }
      ]
    },
    {
      "cell_type": "markdown",
      "metadata": {
        "id": "7XM30mT5w6uy"
      },
      "source": [
        "**While loop**"
      ]
    },
    {
      "cell_type": "code",
      "metadata": {
        "colab": {
          "base_uri": "https://localhost:8080/"
        },
        "id": "6FDeahGxwRC4",
        "outputId": "4516d13a-24e4-496e-b8e0-7967a0effdd9"
      },
      "source": [
        "i = 1\n",
        "n = 20\n",
        "\n",
        "while i <= n:\n",
        "  print(i)\n",
        "  i += 1"
      ],
      "execution_count": 13,
      "outputs": [
        {
          "output_type": "stream",
          "text": [
            "1\n",
            "2\n",
            "3\n",
            "4\n",
            "5\n",
            "6\n",
            "7\n",
            "8\n",
            "9\n",
            "10\n",
            "11\n",
            "12\n",
            "13\n",
            "14\n",
            "15\n",
            "16\n",
            "17\n",
            "18\n",
            "19\n",
            "20\n"
          ],
          "name": "stdout"
        }
      ]
    },
    {
      "cell_type": "code",
      "metadata": {
        "colab": {
          "base_uri": "https://localhost:8080/"
        },
        "id": "65A7PG2kxEHr",
        "outputId": "bdae986b-e804-4725-a8c4-ffcb4669618c"
      },
      "source": [
        "counter = 0\n",
        "\n",
        "while counter < 3:\n",
        "    print(\"Inside loop\")\n",
        "    counter = counter + 1\n",
        "else:\n",
        "    print(\"Inside else\")"
      ],
      "execution_count": 14,
      "outputs": [
        {
          "output_type": "stream",
          "text": [
            "Inside loop\n",
            "Inside loop\n",
            "Inside loop\n",
            "Inside else\n"
          ],
          "name": "stdout"
        }
      ]
    },
    {
      "cell_type": "code",
      "metadata": {
        "id": "c8xvp2VJxTPM"
      },
      "source": [
        ""
      ],
      "execution_count": null,
      "outputs": []
    }
  ]
}