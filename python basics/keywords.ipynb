{
  "nbformat": 4,
  "nbformat_minor": 0,
  "metadata": {
    "colab": {
      "name": "keywords.ipynb",
      "provenance": []
    },
    "kernelspec": {
      "name": "python3",
      "display_name": "Python 3"
    },
    "language_info": {
      "name": "python"
    }
  },
  "cells": [
    {
      "cell_type": "code",
      "metadata": {
        "colab": {
          "base_uri": "https://localhost:8080/"
        },
        "id": "kD0YGZuUIA94",
        "outputId": "5cea6ec5-2718-495a-f8d9-ced14a8b4d63"
      },
      "source": [
        "#Multiline statements\n",
        "dict_example = {\"dog\":\"bark\",\n",
        "                  \"cat\":\"meow\",\n",
        "                  \"lion\":\"roar\"}\n",
        "\n",
        "print(dict_example)\n",
        "\n",
        "car_Colours = ['red',\n",
        "                'blue',\n",
        "                'green']"
      ],
      "execution_count": 3,
      "outputs": [
        {
          "output_type": "stream",
          "text": [
            "{'dog': 'bark', 'cat': 'meow', 'lion': 'roar'}\n"
          ],
          "name": "stdout"
        }
      ]
    },
    {
      "cell_type": "markdown",
      "metadata": {
        "id": "tuMmeYmcNhVo"
      },
      "source": [
        "**Python Indentation**"
      ]
    },
    {
      "cell_type": "code",
      "metadata": {
        "colab": {
          "base_uri": "https://localhost:8080/"
        },
        "id": "8K_WA1oBNL6R",
        "outputId": "f22ec2aa-152e-4b90-b923-93fb571e4bb6"
      },
      "source": [
        "for k in range(1,10):\n",
        "  print(k)\n",
        "  if (k == 5+1):\n",
        "    print(\"k is 6\")\n",
        "\n",
        "if True:\n",
        "  print(\"Hello\")\n",
        "  a = 5\n",
        "\n",
        "if True: print(\"Hello\"); a = 5"
      ],
      "execution_count": 4,
      "outputs": [
        {
          "output_type": "stream",
          "text": [
            "1\n",
            "2\n",
            "3\n",
            "4\n",
            "5\n",
            "6\n",
            "k is 6\n",
            "7\n",
            "8\n",
            "9\n",
            "Hello\n",
            "Hello\n"
          ],
          "name": "stdout"
        }
      ]
    },
    {
      "cell_type": "markdown",
      "metadata": {
        "id": "txNFc4mEOzk3"
      },
      "source": [
        "**Comments**"
      ]
    },
    {
      "cell_type": "code",
      "metadata": {
        "colab": {
          "base_uri": "https://localhost:8080/",
          "height": 35
        },
        "id": "z9mn978eOtZm",
        "outputId": "9a56a1e7-f44c-4d99-b6b3-33562256efaa"
      },
      "source": [
        "# This is a single line comment\n",
        "'''\n",
        "This is a multiline comment.\n",
        "This is a multiline comment.\n",
        "'''\n",
        "\"\"\"\n",
        "Double Quotes can also\n",
        "be used for multiline comments\n",
        "\"\"\""
      ],
      "execution_count": 8,
      "outputs": [
        {
          "output_type": "execute_result",
          "data": {
            "application/vnd.google.colaboratory.intrinsic+json": {
              "type": "string"
            },
            "text/plain": [
              "'\\nDouble Quotes can also\\nbe used for multiline comments\\n'"
            ]
          },
          "metadata": {},
          "execution_count": 8
        }
      ]
    },
    {
      "cell_type": "markdown",
      "metadata": {
        "id": "zNxVIm_uPtIA"
      },
      "source": [
        "**Doc string comments**"
      ]
    },
    {
      "cell_type": "code",
      "metadata": {
        "colab": {
          "base_uri": "https://localhost:8080/"
        },
        "id": "N8zI8pSDPbJz",
        "outputId": "26b37102-5666-4c61-cf75-44f146d1cd76"
      },
      "source": [
        "def sum(num):\n",
        "  \"\"\"Function to the values\"\"\"\n",
        "  return 2 + num\n",
        "\n",
        "print(sum.__doc__)"
      ],
      "execution_count": 9,
      "outputs": [
        {
          "output_type": "stream",
          "text": [
            "Function to the values\n"
          ],
          "name": "stdout"
        }
      ]
    },
    {
      "cell_type": "code",
      "metadata": {
        "id": "UbWgdbTAQEDp"
      },
      "source": [
        ""
      ],
      "execution_count": null,
      "outputs": []
    }
  ]
}