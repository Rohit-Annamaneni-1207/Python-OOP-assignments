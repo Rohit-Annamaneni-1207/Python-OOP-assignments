{
  "nbformat": 4,
  "nbformat_minor": 0,
  "metadata": {
    "colab": {
      "name": "strings.ipynb",
      "provenance": []
    },
    "kernelspec": {
      "name": "python3",
      "display_name": "Python 3"
    },
    "language_info": {
      "name": "python"
    }
  },
  "cells": [
    {
      "cell_type": "markdown",
      "metadata": {
        "id": "MYmOJNKQetFB"
      },
      "source": [
        "Problem 1: Slice string\n"
      ]
    },
    {
      "cell_type": "code",
      "metadata": {
        "colab": {
          "base_uri": "https://localhost:8080/"
        },
        "id": "T-fS3F1beJPs",
        "outputId": "4b90c388-f840-4506-f2c9-4851f9c92f77"
      },
      "source": [
        "s = 'Beautiful palace'\n",
        "print(s[:], '\\n')\n",
        "print(s[::],'\\n')\n",
        "print(\"First to fifth:\",s[:5])\n",
        "print(\"second to fifth:\",s[1:5])\n",
        "print(\"third to fifth:\",s[2:5])\n",
        "print(\"fourth to fifth:\",s[3:5])"
      ],
      "execution_count": 7,
      "outputs": [
        {
          "output_type": "stream",
          "text": [
            "Beautiful palace \n",
            "\n",
            "Beautiful palace \n",
            "\n",
            "First to fifth: Beaut\n",
            "second to fifth: eaut\n",
            "third to fifth: aut\n",
            "fourth to fifth: ut\n"
          ],
          "name": "stdout"
        }
      ]
    },
    {
      "cell_type": "markdown",
      "metadata": {
        "id": "WEIlIRXqgCE_"
      },
      "source": [
        "Problem 2: Slice with functions"
      ]
    },
    {
      "cell_type": "code",
      "metadata": {
        "colab": {
          "base_uri": "https://localhost:8080/"
        },
        "id": "VxAzeDy-fF4r",
        "outputId": "edb93ed4-16e7-480d-eba1-355f2151fb48"
      },
      "source": [
        "def slice(s, start, stop, step):\n",
        "  return s[start:stop:step]\n",
        "\n",
        "\n",
        "print(slice(\"Learning python\", 0, 6, 2))"
      ],
      "execution_count": 9,
      "outputs": [
        {
          "output_type": "stream",
          "text": [
            "Lan\n"
          ],
          "name": "stdout"
        }
      ]
    },
    {
      "cell_type": "markdown",
      "metadata": {
        "id": "sDRYrypuhmws"
      },
      "source": [
        "Problem 3: reverse string with slicing"
      ]
    },
    {
      "cell_type": "code",
      "metadata": {
        "colab": {
          "base_uri": "https://localhost:8080/"
        },
        "id": "qNHnRn5Bgl6X",
        "outputId": "69afcdda-88c2-44e1-8f31-6b4fe9905fb9"
      },
      "source": [
        "py_str = \"Hello world\"\n",
        "print(py_str[::-1])"
      ],
      "execution_count": 10,
      "outputs": [
        {
          "output_type": "stream",
          "text": [
            "dlrow olleH\n"
          ],
          "name": "stdout"
        }
      ]
    },
    {
      "cell_type": "markdown",
      "metadata": {
        "id": "X3tTw-TEiBq9"
      },
      "source": [
        "problem 4: get substring\n"
      ]
    },
    {
      "cell_type": "code",
      "metadata": {
        "colab": {
          "base_uri": "https://localhost:8080/"
        },
        "id": "4v8Gm5ifhzM8",
        "outputId": "de8d77aa-4bbb-4271-f5ab-406738225951"
      },
      "source": [
        "py_string = \"python book\"\n",
        "#first three letters\n",
        "print(py_string[0:3])\n",
        "#2nd letter to fifth letter\n",
        "print(py_string[1:5])"
      ],
      "execution_count": 11,
      "outputs": [
        {
          "output_type": "stream",
          "text": [
            "pyt\n",
            "ytho\n"
          ],
          "name": "stdout"
        }
      ]
    },
    {
      "cell_type": "markdown",
      "metadata": {
        "id": "NGsgHKOEi9mM"
      },
      "source": [
        "Slicing with positive and negative indices"
      ]
    },
    {
      "cell_type": "code",
      "metadata": {
        "colab": {
          "base_uri": "https://localhost:8080/"
        },
        "id": "Eh8uZ46bieHK",
        "outputId": "8a7d08ff-40d2-44d9-93b9-30092c533e2c"
      },
      "source": [
        "# Python slice works with positive indexes\n",
        "s= \"ThisIsDataStructuresClass\"\n",
        "s1 = s[-15:-6]\n",
        "print(\"1.Python slice works with positive indexes \",s1)\n",
        "s1 = s[2:15:3]\n",
        "print(\"2.Python slice works with positive indexes \",s1)\n",
        "s1= s[4:50]\n",
        "print(\"3.Python slice works with higher indexes: \", s1)\n",
        "\n",
        "# Python slice works with negative indexes \n",
        "s = 'PythonIsEasyToLearn'\n",
        "s1 = s[10:4:-1]\n",
        "print(\"4.Python slice works with negative indexes: \", s1)\n",
        "s = 'Python'\n",
        "s1=s[100:]\n",
        "print(\"5. Python gives none when ther is no slicing possible : \", s1)"
      ],
      "execution_count": 12,
      "outputs": [
        {
          "output_type": "stream",
          "text": [
            "1.Python slice works with positive indexes  Structure\n",
            "2.Python slice works with positive indexes  isttc\n",
            "3.Python slice works with higher indexes:  IsDataStructuresClass\n",
            "4.Python slice works with negative indexes:  saEsIn\n",
            "5. Python gives none when ther is no slicing possible :  \n"
          ],
          "name": "stdout"
        }
      ]
    },
    {
      "cell_type": "code",
      "metadata": {
        "id": "ulhnbuthjHA8"
      },
      "source": [
        ""
      ],
      "execution_count": null,
      "outputs": []
    }
  ]
}