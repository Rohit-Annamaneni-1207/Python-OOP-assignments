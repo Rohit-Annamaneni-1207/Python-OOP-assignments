{
  "nbformat": 4,
  "nbformat_minor": 0,
  "metadata": {
    "colab": {
      "name": "OOP_Encapsulation_assignment.ipynb",
      "provenance": [],
      "authorship_tag": "ABX9TyOOGuFI+voZD04xTFBSQJ8r",
      "include_colab_link": true
    },
    "kernelspec": {
      "name": "python3",
      "display_name": "Python 3"
    },
    "language_info": {
      "name": "python"
    }
  },
  "cells": [
    {
      "cell_type": "markdown",
      "metadata": {
        "id": "view-in-github",
        "colab_type": "text"
      },
      "source": [
        "<a href=\"https://colab.research.google.com/github/Rohit-Annamaneni-1207/Python-OOP-assignments/blob/main/OOP_Encapsulation_assignment.ipynb\" target=\"_parent\"><img src=\"https://colab.research.google.com/assets/colab-badge.svg\" alt=\"Open In Colab\"/></a>"
      ]
    },
    {
      "cell_type": "markdown",
      "metadata": {
        "id": "BX6zUB_RT1Io"
      },
      "source": [
        "**C++ PUBLIC VARIABLES**"
      ]
    },
    {
      "cell_type": "code",
      "metadata": {
        "colab": {
          "base_uri": "https://localhost:8080/"
        },
        "id": "XAEeM4tNTzM1",
        "outputId": "29a69c36-4e5c-4f20-b9ee-882570a789b8"
      },
      "source": [
        "%%writefile OOP-Encapsulation-Examples.cpp\n",
        "#include <iostream>\n",
        "using namespace std;\n",
        "\n",
        "class Example\n",
        "{\n",
        "    public:\n",
        "      int A = 1;\n",
        "      int getA()\n",
        "      {\n",
        "          return A;\n",
        "      }\n",
        "};\n",
        "\n",
        "int main()\n",
        "{\n",
        "    Example Obj;\n",
        "    cout<<Obj.A<<\" \"<<Obj.getA()<<endl;\n",
        "}"
      ],
      "execution_count": 1,
      "outputs": [
        {
          "output_type": "stream",
          "name": "stdout",
          "text": [
            "Writing OOP-Encapsulation-Examples.cpp\n"
          ]
        }
      ]
    },
    {
      "cell_type": "code",
      "metadata": {
        "colab": {
          "base_uri": "https://localhost:8080/"
        },
        "id": "lpFxwee8VdoA",
        "outputId": "855899bf-7f26-4cf8-d2e4-892523ab3e87"
      },
      "source": [
        "%%shell\n",
        "g++ OOP-Encapsulation-Examples.cpp -o output_1\n",
        "./output_1"
      ],
      "execution_count": 2,
      "outputs": [
        {
          "output_type": "stream",
          "name": "stdout",
          "text": [
            "1 1\n"
          ]
        },
        {
          "output_type": "execute_result",
          "data": {
            "text/plain": [
              ""
            ]
          },
          "metadata": {},
          "execution_count": 2
        }
      ]
    },
    {
      "cell_type": "markdown",
      "metadata": {
        "id": "NmsWS6_lWXcn"
      },
      "source": [
        "**C++ Private variables**"
      ]
    },
    {
      "cell_type": "code",
      "metadata": {
        "colab": {
          "base_uri": "https://localhost:8080/"
        },
        "id": "QiqeZh5fVoDd",
        "outputId": "60354d02-27a1-4853-cbbd-c79bc857af22"
      },
      "source": [
        "%%writefile OOP-Encapsulation-Examples.cpp\n",
        "#include <iostream>\n",
        "using namespace std;\n",
        "\n",
        "class Examples\n",
        "{\n",
        "    private:\n",
        "      int A = 10;\n",
        "    public:\n",
        "      int B = 20;\n",
        "      int getA()\n",
        "      {\n",
        "          cout<<A<<endl;\n",
        "      }\n",
        "};\n",
        "\n",
        "int main()\n",
        "{\n",
        "    Examples Obj;\n",
        "    cout<<Obj.B<<endl;\n",
        "    Obj.getA();\n",
        "}"
      ],
      "execution_count": 3,
      "outputs": [
        {
          "output_type": "stream",
          "name": "stdout",
          "text": [
            "Overwriting OOP-Encapsulation-Examples.cpp\n"
          ]
        }
      ]
    },
    {
      "cell_type": "code",
      "metadata": {
        "colab": {
          "base_uri": "https://localhost:8080/"
        },
        "id": "syN9S0OVXk6C",
        "outputId": "388ff655-bb41-4f4f-da67-ad334c82578b"
      },
      "source": [
        "%%shell\n",
        "g++ OOP-Encapsulation-Examples.cpp -o output_2\n",
        "./output_2"
      ],
      "execution_count": 5,
      "outputs": [
        {
          "output_type": "stream",
          "name": "stdout",
          "text": [
            "20\n",
            "10\n"
          ]
        },
        {
          "output_type": "execute_result",
          "data": {
            "text/plain": [
              ""
            ]
          },
          "metadata": {},
          "execution_count": 5
        }
      ]
    },
    {
      "cell_type": "markdown",
      "metadata": {
        "id": "wri0wCQwX81-"
      },
      "source": [
        "**C++ Constructors**"
      ]
    },
    {
      "cell_type": "code",
      "metadata": {
        "colab": {
          "base_uri": "https://localhost:8080/"
        },
        "id": "pPJoxZdjXsj5",
        "outputId": "1d185b17-4036-478e-e43a-26907aa75171"
      },
      "source": [
        "%%writefile OOP-Encapsulation-Examples.cpp\n",
        "#include <iostream>\n",
        "using namespace std;\n",
        "\n",
        "class Example\n",
        "{\n",
        "    private: \n",
        "      int A;\n",
        "    public:\n",
        "      int B;\n",
        "      int getA()\n",
        "      {\n",
        "          cout<<A<<endl;\n",
        "      }\n",
        "      Example()\n",
        "      {\n",
        "          cout<<\"Enter value of A: \";\n",
        "          cin>>A;\n",
        "          cout<<\"Enter value of B: \";\n",
        "          cin>>B;\n",
        "      }\n",
        "};\n",
        "\n",
        "int main()\n",
        "{\n",
        "    Example Obj;\n",
        "    cout<<Obj.B<<endl;\n",
        "    Obj.getA();\n",
        "}"
      ],
      "execution_count": 6,
      "outputs": [
        {
          "output_type": "stream",
          "name": "stdout",
          "text": [
            "Overwriting OOP-Encapsulation-Examples.cpp\n"
          ]
        }
      ]
    },
    {
      "cell_type": "code",
      "metadata": {
        "colab": {
          "base_uri": "https://localhost:8080/"
        },
        "id": "dXRPVzfsZGRl",
        "outputId": "dc88fcb7-077f-4cd4-efb7-125ba50950ba"
      },
      "source": [
        "%%shell\n",
        "g++ OOP-Encapsulation-Examples.cpp -o output_3\n",
        "./output_3"
      ],
      "execution_count": 7,
      "outputs": [
        {
          "output_type": "stream",
          "name": "stdout",
          "text": [
            "Enter value of A: 10\n",
            "Enter value of B: 20\n",
            "20\n",
            "10\n"
          ]
        },
        {
          "output_type": "execute_result",
          "data": {
            "text/plain": [
              ""
            ]
          },
          "metadata": {},
          "execution_count": 7
        }
      ]
    },
    {
      "cell_type": "markdown",
      "metadata": {
        "id": "HuIaZVWSZbvY"
      },
      "source": [
        "**PROGRAM 5 - PYTHON**"
      ]
    },
    {
      "cell_type": "code",
      "metadata": {
        "colab": {
          "base_uri": "https://localhost:8080/"
        },
        "id": "jOZtkEEdZNqc",
        "outputId": "71cad419-f8cf-48d9-98c9-e5a0694a3e60"
      },
      "source": [
        "class Country:\n",
        "  def __init__(self, name):\n",
        "    self.name = name\n",
        "\n",
        "  def say_name(self):\n",
        "    print(f\"Hello, country name is {self.name}\")\n",
        "\n",
        "c1 = Country('UK') \n",
        "c2 = Country('USA')\n",
        "c3 = Country('India')\n",
        "  \n",
        "c1.say_name()  \n",
        "c2.say_name()\n",
        "c3.say_name()"
      ],
      "execution_count": 8,
      "outputs": [
        {
          "output_type": "stream",
          "name": "stdout",
          "text": [
            "Hello, country name is UK\n",
            "Hello, country name is USA\n",
            "Hello, country name is India\n"
          ]
        }
      ]
    },
    {
      "cell_type": "markdown",
      "metadata": {
        "id": "MRsQmzpXZ8oH"
      },
      "source": [
        "**PROGRAM 6 - PYTHON**"
      ]
    },
    {
      "cell_type": "code",
      "metadata": {
        "colab": {
          "base_uri": "https://localhost:8080/"
        },
        "id": "ABOQnFaiZ16L",
        "outputId": "d3a0a938-167c-4fd7-af53-214e03697cad"
      },
      "source": [
        "class Car:\n",
        "  __maxspeed = 0\n",
        "  __name = \"\"\n",
        "\n",
        "  def __init__(self):\n",
        "    self.__maxspeed = 100\n",
        "    self.__name = \"regular car\"\n",
        "\n",
        "  def drive(self):\n",
        "    print('driving. maxspeed ' + str(self.__maxspeed))\n",
        "\n",
        "car = Car()\n",
        "car.drive()\n",
        "mxspeed =10\n",
        "car.__maxspeed = 10        \n",
        "car.drive()"
      ],
      "execution_count": 10,
      "outputs": [
        {
          "output_type": "stream",
          "name": "stdout",
          "text": [
            "driving. maxspeed 100\n",
            "driving. maxspeed 100\n"
          ]
        }
      ]
    },
    {
      "cell_type": "markdown",
      "metadata": {
        "id": "kgflOHHSa9Eq"
      },
      "source": [
        "**PROGRAM 7 - PYTHON**"
      ]
    },
    {
      "cell_type": "code",
      "metadata": {
        "colab": {
          "base_uri": "https://localhost:8080/"
        },
        "id": "KrnHoIbUa4Do",
        "outputId": "562d77af-d97c-4a69-dbe0-064559345296"
      },
      "source": [
        "class student:\n",
        "  count=0\n",
        "  def __init__(self,num) :\n",
        "    student.count=student.count+num\n",
        "\n",
        "s1=student(4)\n",
        "s2=student(5)\n",
        "s3=student(6)\n",
        "\n",
        "print(\"number of students in OOP class :\", student.count)\n",
        "print(\"number of students in OOP class:\", s2.count)"
      ],
      "execution_count": 11,
      "outputs": [
        {
          "output_type": "stream",
          "name": "stdout",
          "text": [
            "number of students in OOP class : 15\n",
            "number of students in OOP class: 15\n"
          ]
        }
      ]
    },
    {
      "cell_type": "markdown",
      "metadata": {
        "id": "b32PVouUcnIh"
      },
      "source": [
        "PROGRAM 8 - PYTHON"
      ]
    },
    {
      "cell_type": "code",
      "metadata": {
        "colab": {
          "base_uri": "https://localhost:8080/"
        },
        "id": "MoXhoCNiciVn",
        "outputId": "2e9a552e-9f0a-463b-c32d-f80ad0dfb477"
      },
      "source": [
        "class student:\n",
        "  def __init__(self):\n",
        "    print(\"This is non parametrized constructor\")\n",
        "\n",
        "  def shownum(self, num):\n",
        "    print(\"number of students :\", num*num)\n",
        "    return num\n",
        "\n",
        "s1=student()\n",
        "s2=student()\n",
        "s3=student()\n",
        "\n",
        "result1= s1.shownum(5)\n",
        "result2= s2.shownum(6)\n",
        "\n",
        "print(\"number of students in OOP class :\", result1,result2)"
      ],
      "execution_count": 16,
      "outputs": [
        {
          "output_type": "stream",
          "name": "stdout",
          "text": [
            "This is non parametrized constructor\n",
            "This is non parametrized constructor\n",
            "This is non parametrized constructor\n",
            "number of students : 25\n",
            "number of students : 36\n",
            "number of students in OOP class : 5 6\n"
          ]
        }
      ]
    },
    {
      "cell_type": "code",
      "metadata": {
        "colab": {
          "base_uri": "https://localhost:8080/"
        },
        "id": "La-fja6SdCa_",
        "outputId": "e70a5058-dbda-456d-bfd0-6d31f3767981"
      },
      "source": [
        "class student:\n",
        "  def __init__(self,stname,stage) :\n",
        "    self.name = stname\n",
        "    self.age = stage\n",
        "    print(\"This is parametrized constructor\") \n",
        "\n",
        "  def display(self,styear):\n",
        "       print(\"Student :\", self.name, self.age, styear)\n",
        "       if styear <= 2020 :\n",
        "         print (\"Student has completed the course\")\n",
        "       return \n",
        "s1=student(\"Ram\",21)\n",
        "s2=student(\"Krishna\",23)\n",
        "s3=student(\"Kumar\",22)\n",
        "\n",
        "s1.display(2021)\n",
        "s2.display(2019)"
      ],
      "execution_count": 17,
      "outputs": [
        {
          "output_type": "stream",
          "name": "stdout",
          "text": [
            "This is parametrized constructor\n",
            "This is parametrized constructor\n",
            "This is parametrized constructor\n",
            "Student : Ram 21 2021\n",
            "Student : Krishna 23 2019\n",
            "Student has completed the course\n"
          ]
        }
      ]
    },
    {
      "cell_type": "code",
      "metadata": {
        "id": "n8q4VPMLdogu"
      },
      "source": [
        ""
      ],
      "execution_count": null,
      "outputs": []
    }
  ]
}